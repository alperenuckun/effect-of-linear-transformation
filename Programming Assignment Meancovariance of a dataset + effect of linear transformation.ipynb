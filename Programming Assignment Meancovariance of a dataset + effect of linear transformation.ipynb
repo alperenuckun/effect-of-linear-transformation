{
 "cells": [
  {
   "cell_type": "code",
   "execution_count": 3,
   "id": "9715cbdb-6739-4cde-ac10-93a33307b0b3",
   "metadata": {},
   "outputs": [],
   "source": [
    "import numpy as np"
   ]
  },
  {
   "cell_type": "code",
   "execution_count": 5,
   "id": "eb341cf3-837d-4dec-93b7-1a5af63f07d5",
   "metadata": {},
   "outputs": [],
   "source": [
    "# 1. Örnek veri kümesi oluştur\n",
    "data = np.array([\n",
    "    [1, 2],\n",
    "    [5, 4],\n",
    "    [3, 6],\n",
    "    [7, 8]\n",
    "])\n"
   ]
  },
  {
   "cell_type": "code",
   "execution_count": 7,
   "id": "c9a5f703-da65-458b-9648-65093f62bf99",
   "metadata": {},
   "outputs": [
    {
     "name": "stdout",
     "output_type": "stream",
     "text": [
      "Orijinal Ortalama:\n",
      " [4. 5.]\n",
      "Orijinal Kovaryans Matrisi:\n",
      " [[6.66666667 5.33333333]\n",
      " [5.33333333 6.66666667]]\n"
     ]
    }
   ],
   "source": [
    "# 2. Orijinal veri kümesinin ortalaması ve kovaryans matrisi\n",
    "mean_original = np.mean(data, axis=0)\n",
    "cov_original = np.cov(data, rowvar=False)\n",
    "\n",
    "print(\"Orijinal Ortalama:\\n\", mean_original)\n",
    "print(\"Orijinal Kovaryans Matrisi:\\n\", cov_original)"
   ]
  },
  {
   "cell_type": "code",
   "execution_count": 9,
   "id": "831d4408-a60f-4aed-aa84-4a95675b26f1",
   "metadata": {},
   "outputs": [],
   "source": [
    "# 3. Doğrusal dönüşüm: A matrisi ile çarpma ve b vektörünü ekleme\n",
    "A = np.array([[2, 0], [0, 3]])  # Ölçekleme matrisimiz\n",
    "b = np.array([1, -2])  # Kaydırma vektörümüz"
   ]
  },
  {
   "cell_type": "code",
   "execution_count": 11,
   "id": "1cf1f1d7-f727-4ba9-bf8c-c8751969094d",
   "metadata": {},
   "outputs": [],
   "source": [
    "# Dönüştürülmüş veri kümesini hesapla\n",
    "transformed_data = (data @ A.T) + b"
   ]
  },
  {
   "cell_type": "code",
   "execution_count": 13,
   "id": "837c8aed-976c-4af3-8b83-9177f06e6626",
   "metadata": {},
   "outputs": [
    {
     "name": "stdout",
     "output_type": "stream",
     "text": [
      "\n",
      "Dönüştürülmüş Ortalama:\n",
      " [ 9. 13.]\n",
      "Dönüştürülmüş Kovaryans Matrisi:\n",
      " [[26.66666667 32.        ]\n",
      " [32.         60.        ]]\n"
     ]
    }
   ],
   "source": [
    "# 4. Yeni veri kümesinin ortalaması ve kovaryansı\n",
    "mean_transformed = np.mean(transformed_data, axis=0)\n",
    "cov_transformed = np.cov(transformed_data, rowvar=False)\n",
    "\n",
    "print(\"\\nDönüştürülmüş Ortalama:\\n\", mean_transformed)\n",
    "print(\"Dönüştürülmüş Kovaryans Matrisi:\\n\", cov_transformed)"
   ]
  },
  {
   "cell_type": "code",
   "execution_count": 15,
   "id": "8dacdd1f-1a93-47d5-9fa4-2faf3222d9d6",
   "metadata": {},
   "outputs": [
    {
     "name": "stdout",
     "output_type": "stream",
     "text": [
      "\n",
      "Beklenen Kovaryans Matrisi (Teorik Hesap):\n",
      " [[26.66666667 32.        ]\n",
      " [32.         60.        ]]\n"
     ]
    }
   ],
   "source": [
    "# 5. Teorik dönüşüm formüllerine göre beklenen kovaryans matrisi\n",
    "expected_cov_transformed = A @ cov_original @ A.T\n",
    "\n",
    "print(\"\\nBeklenen Kovaryans Matrisi (Teorik Hesap):\\n\", expected_cov_transformed)"
   ]
  },
  {
   "cell_type": "code",
   "execution_count": null,
   "id": "9144e996-555c-4766-bcdc-03579846117b",
   "metadata": {},
   "outputs": [],
   "source": []
  }
 ],
 "metadata": {
  "kernelspec": {
   "display_name": "Python 3 (ipykernel)",
   "language": "python",
   "name": "python3"
  },
  "language_info": {
   "codemirror_mode": {
    "name": "ipython",
    "version": 3
   },
   "file_extension": ".py",
   "mimetype": "text/x-python",
   "name": "python",
   "nbconvert_exporter": "python",
   "pygments_lexer": "ipython3",
   "version": "3.12.4"
  }
 },
 "nbformat": 4,
 "nbformat_minor": 5
}
